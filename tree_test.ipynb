{
 "cells": [
  {
   "cell_type": "code",
   "execution_count": 1,
   "outputs": [
    {
     "name": "stdout",
     "output_type": "stream",
     "text": [
      "Binary Tree: \n",
      "ε (p=1.0)\n",
      "    0 (p=0.9087456634501009)\n",
      "        0 (p=0.7811728033847162)\n",
      "        1 (p=0.1558784612187052)\n",
      "    1 (p=0.23348769502757338)\n",
      "        0 (p=0.1483170731078185)\n",
      "        1 (p=0.8782853901088181)\n",
      "Generated patterns:  [('00', 0.7098873974810191), ('01', 0.14165387565777307), ('10', 0.03463021153318063), ('11', 0.20506883131290105)]\n",
      "Sampled pattern:  01\n"
     ]
    }
   ],
   "source": [
    "import random\n",
    "from typing import List, Union\n",
    "\n",
    "import random\n",
    "from typing import List, Union\n",
    "\n",
    "class Node:\n",
    "    def __init__(self, value: Union[str, int], probability=0, left=None,center=None, right=None):\n",
    "        self.value = value\n",
    "        self.probability = probability\n",
    "        self.left = left\n",
    "        self.right = right\n",
    "        self.center = center\n",
    "\n",
    "class BinaryTree:\n",
    "    def __init__(self, root_value='ε'):\n",
    "        self.root = Node(root_value, 1.0)  # Root node's probability is 1 as we start from root.\n",
    "\n",
    "    def insert(self, current_node, depth, n):\n",
    "        if depth < n:\n",
    "            # probability = random.uniform(0, 1)\n",
    "            probability = 0.5\n",
    "            current_node.left = Node(0, probability)\n",
    "            self.insert(current_node.left, depth + 1, n)\n",
    "            # probability = random.uniform(0, 1)\n",
    "\n",
    "            current_node.center = Node('e', probability)\n",
    "            self.insert(current_node.center, depth + 1, n)\n",
    "            current_node.right = Node(1, probability)\n",
    "            self.insert(current_node.right, depth + 1, n)\n",
    "    def generate_patterns(self, current_node, pattern, patterns, probability):\n",
    "        if current_node:\n",
    "            pattern += str(current_node.value)\n",
    "            probability *= current_node.probability\n",
    "            if not current_node.left and not current_node.right:  # Leaf node\n",
    "                patterns.append((pattern[1:], probability))  # Skip root 'ε'\n",
    "            else:\n",
    "                self.generate_patterns(current_node.left, pattern, patterns, probability)\n",
    "                self.generate_patterns(current_node.right, pattern, patterns, probability)\n",
    "\n",
    "    def print_tree(self, current_node, depth=0):\n",
    "        if current_node:\n",
    "            print('    ' * depth + f\"{current_node.value} (p={current_node.probability})\")\n",
    "            self.print_tree(current_node.left, depth + 1)\n",
    "            self.print_tree(current_node.right, depth + 1)\n",
    "\n",
    "    def build_tree(self, n):\n",
    "        self.insert(self.root, 1, n)\n",
    "\n",
    "    def get_patterns(self):\n",
    "        patterns = []\n",
    "        self.generate_patterns(self.root, '', patterns, 1.0)\n",
    "        return patterns\n",
    "\n",
    "def sample_pattern(patterns: List[str]):\n",
    "    total_probability = sum([p for _, p in patterns])\n",
    "    r = random.uniform(0, total_probability)\n",
    "    upto = 0\n",
    "    for pattern, probability in patterns:\n",
    "        if upto + probability >= r:\n",
    "            return pattern\n",
    "        upto += probability\n",
    "\n",
    "def main(n: int):\n",
    "    binary_tree = BinaryTree()\n",
    "    binary_tree.build_tree(n)\n",
    "    print(\"Binary Tree: \")\n",
    "    binary_tree.print_tree(binary_tree.root)\n",
    "    patterns = binary_tree.get_patterns()\n",
    "    print(\"Generated patterns: \", patterns)\n",
    "    sampled_pattern = sample_pattern(patterns)\n",
    "    print(\"Sampled pattern: \", sampled_pattern)\n",
    "\n",
    "if __name__ == \"__main__\":\n",
    "    length_of_binary_pattern = 3  # Specify your desired length here\n",
    "    main(length_of_binary_pattern)\n",
    "\n"
   ],
   "metadata": {
    "collapsed": false
   }
  },
  {
   "cell_type": "code",
   "execution_count": null,
   "outputs": [],
   "source": [],
   "metadata": {
    "collapsed": false
   }
  }
 ],
 "metadata": {
  "kernelspec": {
   "display_name": "Python 3",
   "language": "python",
   "name": "python3"
  },
  "language_info": {
   "codemirror_mode": {
    "name": "ipython",
    "version": 2
   },
   "file_extension": ".py",
   "mimetype": "text/x-python",
   "name": "python",
   "nbconvert_exporter": "python",
   "pygments_lexer": "ipython2",
   "version": "2.7.6"
  }
 },
 "nbformat": 4,
 "nbformat_minor": 0
}
