{
 "cells": [
  {
   "cell_type": "code",
   "execution_count": 1,
   "outputs": [
    {
     "name": "stdout",
     "output_type": "stream",
     "text": [
      "recurstion old ,  3000\n",
      "start job\n",
      "start job\n"
     ]
    }
   ],
   "source": [
    "import os\n",
    "import re\n",
    "\n",
    "import matplotlib.pyplot as plt\n",
    "from utils.evaluations_utils import *\n",
    "import numpy as np\n",
    "%matplotlib inline\n",
    "import matplotlib\n",
    "import seaborn as sn\n",
    "from create_entropy_estimation import EntropyEstimation\n",
    "import re\n",
    "from typing import List,Iterable\n",
    "\n",
    "class CTWHandler():\n",
    "\n",
    "    def __init__(self):\n",
    "        self.__data=dict()\n",
    "    def add_data(self,path:Iterable[str]):\n",
    "        # data:List[cee.EntropyEstimation]=[]\n",
    "        for i in path:\n",
    "            data=EntropyEstimation.load(i)\n",
    "            if data.tag not in self.__data:\n",
    "                self.__data[data.tag]=dict()\n",
    "            if data.file_name not in self.__data[data.tag]:\n",
    "                self.__data[data.tag][data.file_name]=dict()\n",
    "            self.__data[data.tag][data.file_name][data.file_index]=data\n",
    "\n",
    "    def get_item_by_file_name_and_index(self,f_name,index):\n",
    "        return {k:v[f_name][index] for k,v in self.__data.items()}\n",
    "\n",
    "    def __iter__(self):\n",
    "        for kt,vt in self.__data.items():\n",
    "            for kf,vf in vt.items():\n",
    "                for ki,vi in vf.items():\n",
    "                    return dict(tag=kt,file=kf,index=ki,entropy=vi.entopy,n_spikes=np.sum(vi.s),l_segemnt=vi.s.size)\n",
    "\n",
    "models={}\n",
    "regex_match = re.compile('Rat.+CTW')\n",
    "gmax_regex = re.compile('.*_([0-9](?:-[0-9])?(?:_noNMDA)?)_.*')\n",
    "gmax_value_regex = re.compile('([0-9](?:\\.[0-9])?)[a-z,A-Z]*')\n",
    "models_pathes=[]\n",
    "for i in os.listdir('entropy_data'):\n",
    "    cur_dir_path=os.path.join('entropy_data',i)\n",
    "    if regex_match.match(i) and os.path.isdir(cur_dir_path):\n",
    "        for j in os.listdir(cur_dir_path):\n",
    "            models_pathes.append(os.path.join(cur_dir_path,j))\n",
    "        models[i] = gmax_regex.match(i).group(1).replace('-','.')\n",
    "        models[i] = models[i].replace('_noNMDA',' AMPA')\n",
    "name_order = list(models.values())\n",
    "name_order = sorted(name_order,key=lambda x:(float(gmax_value_regex.match(x).group(0)),'AMPA' not in x))\n",
    "\n",
    "grouping = {'_noNMDA'}\n",
    "remove_v = True\n",
    "\n"
   ],
   "metadata": {
    "collapsed": false
   }
  },
  {
   "cell_type": "code",
   "execution_count": 2,
   "outputs": [
    {
     "ename": "EOFError",
     "evalue": "Ran out of input\n entropy_data\\Rat_L5b_PC_2_Hay_0-4_CTW\\ID_0_512971_Rat_L5b_PC_2_Hay_0-4_0.pkl",
     "output_type": "error",
     "traceback": [
      "\u001B[1;31m---------------------------------------------------------------------------\u001B[0m",
      "\u001B[1;31mEOFError\u001B[0m                                  Traceback (most recent call last)",
      "File \u001B[1;32m~\\Documents\\university\\Idan_Lab\\neuron_mi\\create_entropy_estimation.py:118\u001B[0m, in \u001B[0;36mEntropyEstimation.load\u001B[1;34m(path, tag, file_index, sim_index)\u001B[0m\n\u001B[0;32m    117\u001B[0m     \u001B[38;5;28;01mwith\u001B[39;00m \u001B[38;5;28mopen\u001B[39m(path, \u001B[38;5;124m'\u001B[39m\u001B[38;5;124mrb\u001B[39m\u001B[38;5;124m'\u001B[39m) \u001B[38;5;28;01mas\u001B[39;00m pfile:\n\u001B[1;32m--> 118\u001B[0m         obj \u001B[38;5;241m=\u001B[39m \u001B[43mpickle\u001B[49m\u001B[38;5;241;43m.\u001B[39;49m\u001B[43mload\u001B[49m\u001B[43m(\u001B[49m\u001B[43mpfile\u001B[49m\u001B[43m)\u001B[49m\n\u001B[0;32m    119\u001B[0m \u001B[38;5;28;01mexcept\u001B[39;00m \u001B[38;5;167;01mException\u001B[39;00m \u001B[38;5;28;01mas\u001B[39;00m e:\n",
      "\u001B[1;31mEOFError\u001B[0m: Ran out of input",
      "\nDuring handling of the above exception, another exception occurred:\n",
      "\u001B[1;31mEOFError\u001B[0m                                  Traceback (most recent call last)",
      "Cell \u001B[1;32mIn[2], line 2\u001B[0m\n\u001B[0;32m      1\u001B[0m c \u001B[38;5;241m=\u001B[39m CTWHandler()\n\u001B[1;32m----> 2\u001B[0m \u001B[43mc\u001B[49m\u001B[38;5;241;43m.\u001B[39;49m\u001B[43madd_data\u001B[49m\u001B[43m(\u001B[49m\u001B[43mmodels_pathes\u001B[49m\u001B[43m)\u001B[49m\n",
      "Cell \u001B[1;32mIn[1], line 21\u001B[0m, in \u001B[0;36mCTWHandler.add_data\u001B[1;34m(self, path)\u001B[0m\n\u001B[0;32m     18\u001B[0m \u001B[38;5;28;01mdef\u001B[39;00m \u001B[38;5;21madd_data\u001B[39m(\u001B[38;5;28mself\u001B[39m,path:Iterable[\u001B[38;5;28mstr\u001B[39m]):\n\u001B[0;32m     19\u001B[0m     \u001B[38;5;66;03m# data:List[cee.EntropyEstimation]=[]\u001B[39;00m\n\u001B[0;32m     20\u001B[0m     \u001B[38;5;28;01mfor\u001B[39;00m i \u001B[38;5;129;01min\u001B[39;00m path:\n\u001B[1;32m---> 21\u001B[0m         data\u001B[38;5;241m=\u001B[39m\u001B[43mEntropyEstimation\u001B[49m\u001B[38;5;241;43m.\u001B[39;49m\u001B[43mload\u001B[49m\u001B[43m(\u001B[49m\u001B[43mi\u001B[49m\u001B[43m)\u001B[49m\n\u001B[0;32m     22\u001B[0m         \u001B[38;5;28;01mif\u001B[39;00m data\u001B[38;5;241m.\u001B[39mtag \u001B[38;5;129;01mnot\u001B[39;00m \u001B[38;5;129;01min\u001B[39;00m \u001B[38;5;28mself\u001B[39m\u001B[38;5;241m.\u001B[39m__data:\n\u001B[0;32m     23\u001B[0m             \u001B[38;5;28mself\u001B[39m\u001B[38;5;241m.\u001B[39m__data[data\u001B[38;5;241m.\u001B[39mtag]\u001B[38;5;241m=\u001B[39m\u001B[38;5;28mdict\u001B[39m()\n",
      "File \u001B[1;32m~\\Documents\\university\\Idan_Lab\\neuron_mi\\create_entropy_estimation.py:120\u001B[0m, in \u001B[0;36mEntropyEstimation.load\u001B[1;34m(path, tag, file_index, sim_index)\u001B[0m\n\u001B[0;32m    118\u001B[0m         obj \u001B[38;5;241m=\u001B[39m pickle\u001B[38;5;241m.\u001B[39mload(pfile)\n\u001B[0;32m    119\u001B[0m \u001B[38;5;28;01mexcept\u001B[39;00m \u001B[38;5;167;01mException\u001B[39;00m \u001B[38;5;28;01mas\u001B[39;00m e:\n\u001B[1;32m--> 120\u001B[0m     \u001B[38;5;28;01mraise\u001B[39;00m \u001B[38;5;28mtype\u001B[39m(e)(\u001B[38;5;28mstr\u001B[39m(e)\u001B[38;5;241m+\u001B[39m\u001B[38;5;124m'\u001B[39m\u001B[38;5;130;01m\\n\u001B[39;00m\u001B[38;5;124m \u001B[39m\u001B[38;5;124m'\u001B[39m\u001B[38;5;241m+\u001B[39mpath)\n\u001B[0;32m    122\u001B[0m \u001B[38;5;28;01mreturn\u001B[39;00m EntropyEstimation(\u001B[38;5;241m*\u001B[39m\u001B[38;5;241m*\u001B[39mobj)\n",
      "\u001B[1;31mEOFError\u001B[0m: Ran out of input\n entropy_data\\Rat_L5b_PC_2_Hay_0-4_CTW\\ID_0_512971_Rat_L5b_PC_2_Hay_0-4_0.pkl"
     ]
    }
   ],
   "source": [
    "c = CTWHandler()\n",
    "c.add_data(models_pathes)\n"
   ],
   "metadata": {
    "collapsed": false
   }
  }
 ],
 "metadata": {
  "kernelspec": {
   "display_name": "Python 3",
   "language": "python",
   "name": "python3"
  },
  "language_info": {
   "codemirror_mode": {
    "name": "ipython",
    "version": 2
   },
   "file_extension": ".py",
   "mimetype": "text/x-python",
   "name": "python",
   "nbconvert_exporter": "python",
   "pygments_lexer": "ipython2",
   "version": "2.7.6"
  }
 },
 "nbformat": 4,
 "nbformat_minor": 0
}
