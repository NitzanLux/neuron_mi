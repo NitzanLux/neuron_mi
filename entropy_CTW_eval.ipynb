{
 "cells": [
  {
   "cell_type": "code",
   "execution_count": 1,
   "outputs": [
    {
     "name": "stdout",
     "output_type": "stream",
     "text": [
      "recurstion old ,  3000\n",
      "start job\n",
      "start job\n"
     ]
    }
   ],
   "source": [
    "import os\n",
    "import re\n",
    "\n",
    "import matplotlib.pyplot as plt\n",
    "from utils.evaluations_utils import *\n",
    "import numpy as np\n",
    "%matplotlib inline\n",
    "import matplotlib\n",
    "import seaborn as sn\n",
    "from create_entropy_estimation import EntropyEstimation\n",
    "import re\n",
    "from typing import List,Iterable\n",
    "\n",
    "class CTWHandler():\n",
    "\n",
    "    def __init__(self):\n",
    "        self.__data=dict()\n",
    "    def add_data(self,path:Iterable[str]):\n",
    "        # data:List[cee.EntropyEstimation]=[]\n",
    "        for i in path:\n",
    "            data=EntropyEstimation.load(i)\n",
    "            if data.tag not in self.__data:\n",
    "                self.__data[data.tag]=dict()\n",
    "            if data.file_name not in self.__data[data.tag]:\n",
    "                self.__data[data.tag][data.file_name]=dict()\n",
    "            self.__data[data.tag][data.file_name][data.file_index]=data\n",
    "\n",
    "    def get_item_by_file_name_and_index(self,f_name,index):\n",
    "        return {k:v[f_name][index] for k,v in self.__data.items()}\n",
    "\n",
    "    def __iter__(self):\n",
    "        for kt,vt in self.__data.items():\n",
    "            for kf,vf in vt.items():\n",
    "                for ki,vi in vf.items():\n",
    "                    yield dict(tag=kt,file=kf,index=ki,entropy=vi.entropy,n_spikes=np.sum(vi.s),l_segemnt=vi.s.size )#,tree=vi.tree)"
   ],
   "metadata": {
    "collapsed": false
   }
  },
  {
   "cell_type": "code",
   "execution_count": 2,
   "outputs": [],
   "source": [
    "models={}\n",
    "regex_match = re.compile('Rat.+0-6_CTW')\n",
    "#regex_match = re.compile('test')\n",
    "gmax_regex = re.compile('.*_([0-9](?:-[0-9])?(?:_noNMDA)?)_.*')\n",
    "gmax_value_regex = re.compile('([0-9](?:\\.[0-9])?)[a-z,A-Z]*')\n",
    "models_pathes=[]\n",
    "for i in os.listdir('entropy_data'):\n",
    "\n",
    "    cur_dir_path=os.path.join('entropy_data',i)\n",
    "    if regex_match.match(i) and os.path.isdir(cur_dir_path):\n",
    "        for j in os.listdir(cur_dir_path):\n",
    "            models_pathes.append(os.path.join(cur_dir_path,j))\n",
    "        # models[i] = gmax_regex.match(i).group(1).replace('-','.')\n",
    "        # models[i] = models[i].replace('_noNMDA',' AMPA')\n",
    "name_order = list(models.values())\n",
    "name_order = sorted(name_order,key=lambda x:(float(gmax_value_regex.match(x).group(0)),'AMPA' not in x))\n",
    "\n",
    "grouping = {'_noNMDA'}\n",
    "remove_v = True\n"
   ],
   "metadata": {
    "collapsed": false
   }
  },
  {
   "cell_type": "code",
   "execution_count": 3,
   "outputs": [],
   "source": [
    "models_pathes=[models_pathes[0]]"
   ],
   "metadata": {
    "collapsed": false
   }
  },
  {
   "cell_type": "code",
   "execution_count": 4,
   "outputs": [
    {
     "ename": "KeyboardInterrupt",
     "evalue": "",
     "output_type": "error",
     "traceback": [
      "\u001B[1;31m---------------------------------------------------------------------------\u001B[0m",
      "\u001B[1;31mKeyboardInterrupt\u001B[0m                         Traceback (most recent call last)",
      "Cell \u001B[1;32mIn[4], line 2\u001B[0m\n\u001B[0;32m      1\u001B[0m c \u001B[38;5;241m=\u001B[39m CTWHandler()\n\u001B[1;32m----> 2\u001B[0m \u001B[43mc\u001B[49m\u001B[38;5;241;43m.\u001B[39;49m\u001B[43madd_data\u001B[49m\u001B[43m(\u001B[49m\u001B[43mmodels_pathes\u001B[49m\u001B[43m)\u001B[49m\n",
      "Cell \u001B[1;32mIn[1], line 21\u001B[0m, in \u001B[0;36mCTWHandler.add_data\u001B[1;34m(self, path)\u001B[0m\n\u001B[0;32m     18\u001B[0m \u001B[38;5;28;01mdef\u001B[39;00m \u001B[38;5;21madd_data\u001B[39m(\u001B[38;5;28mself\u001B[39m,path:Iterable[\u001B[38;5;28mstr\u001B[39m]):\n\u001B[0;32m     19\u001B[0m     \u001B[38;5;66;03m# data:List[cee.EntropyEstimation]=[]\u001B[39;00m\n\u001B[0;32m     20\u001B[0m     \u001B[38;5;28;01mfor\u001B[39;00m i \u001B[38;5;129;01min\u001B[39;00m path:\n\u001B[1;32m---> 21\u001B[0m         data\u001B[38;5;241m=\u001B[39m\u001B[43mEntropyEstimation\u001B[49m\u001B[38;5;241;43m.\u001B[39;49m\u001B[43mload\u001B[49m\u001B[43m(\u001B[49m\u001B[43mi\u001B[49m\u001B[43m)\u001B[49m\n\u001B[0;32m     22\u001B[0m         \u001B[38;5;28;01mif\u001B[39;00m data\u001B[38;5;241m.\u001B[39mtag \u001B[38;5;129;01mnot\u001B[39;00m \u001B[38;5;129;01min\u001B[39;00m \u001B[38;5;28mself\u001B[39m\u001B[38;5;241m.\u001B[39m__data:\n\u001B[0;32m     23\u001B[0m             \u001B[38;5;28mself\u001B[39m\u001B[38;5;241m.\u001B[39m__data[data\u001B[38;5;241m.\u001B[39mtag]\u001B[38;5;241m=\u001B[39m\u001B[38;5;28mdict\u001B[39m()\n",
      "File \u001B[1;32m~\\Documents\\university\\Idan_Lab\\neuron_mi\\create_entropy_estimation.py:119\u001B[0m, in \u001B[0;36mEntropyEstimation.load\u001B[1;34m(path, tag, file_index, sim_index)\u001B[0m\n\u001B[0;32m    117\u001B[0m \u001B[38;5;28;01mtry\u001B[39;00m:\n\u001B[0;32m    118\u001B[0m     \u001B[38;5;28;01mwith\u001B[39;00m \u001B[38;5;28mopen\u001B[39m(path, \u001B[38;5;124m'\u001B[39m\u001B[38;5;124mrb\u001B[39m\u001B[38;5;124m'\u001B[39m) \u001B[38;5;28;01mas\u001B[39;00m pfile:\n\u001B[1;32m--> 119\u001B[0m         obj \u001B[38;5;241m=\u001B[39m \u001B[43mpickle\u001B[49m\u001B[38;5;241;43m.\u001B[39;49m\u001B[43mload\u001B[49m\u001B[43m(\u001B[49m\u001B[43mpfile\u001B[49m\u001B[43m)\u001B[49m\n\u001B[0;32m    120\u001B[0m \u001B[38;5;28;01mexcept\u001B[39;00m \u001B[38;5;167;01mException\u001B[39;00m \u001B[38;5;28;01mas\u001B[39;00m e:\n\u001B[0;32m    121\u001B[0m     \u001B[38;5;28;01mraise\u001B[39;00m \u001B[38;5;28mtype\u001B[39m(e)(\u001B[38;5;28mstr\u001B[39m(e)\u001B[38;5;241m+\u001B[39m\u001B[38;5;124m'\u001B[39m\u001B[38;5;130;01m\\n\u001B[39;00m\u001B[38;5;124m \u001B[39m\u001B[38;5;124m'\u001B[39m\u001B[38;5;241m+\u001B[39mpath)\n",
      "File \u001B[1;32mC:\\python10\\lib\\site-packages\\mpmath\\ctx_mp_python.py:47\u001B[0m, in \u001B[0;36m_mpf.__new__\u001B[1;34m(cls, val, **kwargs)\u001B[0m\n\u001B[0;32m     40\u001B[0m \u001B[38;5;124;03m\"\"\"\u001B[39;00m\n\u001B[0;32m     41\u001B[0m \u001B[38;5;124;03mAn mpf instance holds a real-valued floating-point number. mpf:s\u001B[39;00m\n\u001B[0;32m     42\u001B[0m \u001B[38;5;124;03mwork analogously to Python floats, but support arbitrary-precision\u001B[39;00m\n\u001B[0;32m     43\u001B[0m \u001B[38;5;124;03marithmetic.\u001B[39;00m\n\u001B[0;32m     44\u001B[0m \u001B[38;5;124;03m\"\"\"\u001B[39;00m\n\u001B[0;32m     45\u001B[0m \u001B[38;5;18m__slots__\u001B[39m \u001B[38;5;241m=\u001B[39m [\u001B[38;5;124m'\u001B[39m\u001B[38;5;124m_mpf_\u001B[39m\u001B[38;5;124m'\u001B[39m]\n\u001B[1;32m---> 47\u001B[0m \u001B[38;5;28;01mdef\u001B[39;00m \u001B[38;5;21m__new__\u001B[39m(\u001B[38;5;28mcls\u001B[39m, val\u001B[38;5;241m=\u001B[39mfzero, \u001B[38;5;241m*\u001B[39m\u001B[38;5;241m*\u001B[39mkwargs):\n\u001B[0;32m     48\u001B[0m     \u001B[38;5;124;03m\"\"\"A new mpf can be created from a Python float, an int, a\u001B[39;00m\n\u001B[0;32m     49\u001B[0m \u001B[38;5;124;03m    or a decimal string representing a number in floating-point\u001B[39;00m\n\u001B[0;32m     50\u001B[0m \u001B[38;5;124;03m    format.\"\"\"\u001B[39;00m\n\u001B[0;32m     51\u001B[0m     prec, rounding \u001B[38;5;241m=\u001B[39m \u001B[38;5;28mcls\u001B[39m\u001B[38;5;241m.\u001B[39mcontext\u001B[38;5;241m.\u001B[39m_prec_rounding\n",
      "File \u001B[1;32m_pydevd_bundle\\pydevd_cython_win32_310_64.pyx:1527\u001B[0m, in \u001B[0;36m_pydevd_bundle.pydevd_cython_win32_310_64.ThreadTracer.__call__\u001B[1;34m()\u001B[0m\n",
      "File \u001B[1;32mC:\\Program Files\\JetBrains\\PyCharm 2020.1.2\\plugins\\python\\helpers\\pydev\\_pydev_bundle\\pydev_is_thread_alive.py:8\u001B[0m, in \u001B[0;36mis_thread_alive\u001B[1;34m(t)\u001B[0m\n\u001B[0;32m      6\u001B[0m _temp \u001B[38;5;241m=\u001B[39m threading\u001B[38;5;241m.\u001B[39mThread()\n\u001B[0;32m      7\u001B[0m \u001B[38;5;28;01mif\u001B[39;00m \u001B[38;5;28mhasattr\u001B[39m(_temp, \u001B[38;5;124m'\u001B[39m\u001B[38;5;124m_is_stopped\u001B[39m\u001B[38;5;124m'\u001B[39m): \u001B[38;5;66;03m# Python 3.x has this\u001B[39;00m\n\u001B[1;32m----> 8\u001B[0m     \u001B[38;5;28;01mdef\u001B[39;00m \u001B[38;5;21mis_thread_alive\u001B[39m(t):\n\u001B[0;32m      9\u001B[0m         \u001B[38;5;28;01mreturn\u001B[39;00m \u001B[38;5;129;01mnot\u001B[39;00m t\u001B[38;5;241m.\u001B[39m_is_stopped\n\u001B[0;32m     11\u001B[0m \u001B[38;5;28;01melif\u001B[39;00m \u001B[38;5;28mhasattr\u001B[39m(_temp, \u001B[38;5;124m'\u001B[39m\u001B[38;5;124m_Thread__stopped\u001B[39m\u001B[38;5;124m'\u001B[39m): \u001B[38;5;66;03m# Python 2.x has this\u001B[39;00m\n",
      "\u001B[1;31mKeyboardInterrupt\u001B[0m: "
     ]
    }
   ],
   "source": [
    "c = CTWHandler()\n",
    "c.add_data(models_pathes)"
   ],
   "metadata": {
    "collapsed": false
   }
  },
  {
   "cell_type": "code",
   "execution_count": null,
   "outputs": [],
   "source": [],
   "metadata": {
    "collapsed": false
   }
  },
  {
   "cell_type": "code",
   "execution_count": 5,
   "outputs": [
    {
     "name": "stdout",
     "output_type": "stream",
     "text": [
      "{'tag': 'Rat_L5b_PC_2_Hay_0-4_CTW', 'file': 'ID_58_384878_Rat_L5b_PC_2_Hay_0-4', 'index': 0, 'entropy': mpf('0.01378407442885619365625630665519106426160703474051806154177945519974778162375122244451344688470641349151'), 'n_spikes': 0.0, 'l_segemnt': 500}\n"
     ]
    }
   ],
   "source": [
    "for i in c:\n",
    "    print(i)"
   ],
   "metadata": {
    "collapsed": false
   }
  }
 ],
 "metadata": {
  "kernelspec": {
   "display_name": "Python 3",
   "language": "python",
   "name": "python3"
  },
  "language_info": {
   "codemirror_mode": {
    "name": "ipython",
    "version": 2
   },
   "file_extension": ".py",
   "mimetype": "text/x-python",
   "name": "python",
   "nbconvert_exporter": "python",
   "pygments_lexer": "ipython2",
   "version": "2.7.6"
  }
 },
 "nbformat": 4,
 "nbformat_minor": 0
}
