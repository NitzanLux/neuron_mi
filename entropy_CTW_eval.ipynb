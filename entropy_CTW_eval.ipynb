{
 "cells": [
  {
   "cell_type": "code",
   "execution_count": 1,
   "outputs": [
    {
     "name": "stdout",
     "output_type": "stream",
     "text": [
      "recurstion old ,  3000\n",
      "start job\n",
      "start job\n"
     ]
    }
   ],
   "source": [
    "import os\n",
    "import re\n",
    "\n",
    "import matplotlib.pyplot as plt\n",
    "from utils.evaluations_utils import *\n",
    "import numpy as np\n",
    "%matplotlib inline\n",
    "import matplotlib\n",
    "import seaborn as sn\n",
    "from create_entropy_estimation import EntropyEstimation\n",
    "import re\n",
    "from typing import List,Iterable\n",
    "\n",
    "class CTWHandler():\n",
    "\n",
    "    def __init__(self):\n",
    "        self.__data=dict()\n",
    "    def add_data(self,path:Iterable[str]):\n",
    "        # data:List[cee.EntropyEstimation]=[]\n",
    "        for i in path:\n",
    "            data=EntropyEstimation.load(i)\n",
    "            if data.tag not in self.__data:\n",
    "                self.__data[data.tag]=dict()\n",
    "            if data.file_name not in self.__data[data.tag]:\n",
    "                self.__data[data.tag][data.file_name]=dict()\n",
    "            self.__data[data.tag][data.file_name][data.file_index]=data\n",
    "\n",
    "    def get_item_by_file_name_and_index(self,f_name,index):\n",
    "        return {k:v[f_name][index] for k,v in self.__data.items()}\n",
    "\n",
    "    def __iter__(self):\n",
    "        for kt,vt in self.__data.items():\n",
    "            for kf,vf in vt.items():\n",
    "                for ki,vi in vf.items():\n",
    "                    yield dict(tag=kt,file=kf,index=ki,entropy=vi.entropy,n_spikes=np.sum(vi.s),l_segemnt=vi.s.size)\n",
    "\n",
    "models={}\n",
    "# regex_match = re.compile('Rat.+CTW')\n",
    "regex_match = re.compile('test')\n",
    "gmax_regex = re.compile('.*_([0-9](?:-[0-9])?(?:_noNMDA)?)_.*')\n",
    "gmax_value_regex = re.compile('([0-9](?:\\.[0-9])?)[a-z,A-Z]*')\n",
    "models_pathes=[]\n",
    "for i in os.listdir('entropy_data'):\n",
    "    cur_dir_path=os.path.join('entropy_data',i)\n",
    "    if regex_match.match(i) and os.path.isdir(cur_dir_path):\n",
    "        for j in os.listdir(cur_dir_path):\n",
    "            models_pathes.append(os.path.join(cur_dir_path,j))\n",
    "        # models[i] = gmax_regex.match(i).group(1).replace('-','.')\n",
    "        # models[i] = models[i].replace('_noNMDA',' AMPA')\n",
    "name_order = list(models.values())\n",
    "name_order = sorted(name_order,key=lambda x:(float(gmax_value_regex.match(x).group(0)),'AMPA' not in x))\n",
    "\n",
    "grouping = {'_noNMDA'}\n",
    "remove_v = True\n",
    "\n"
   ],
   "metadata": {
    "collapsed": false
   }
  },
  {
   "cell_type": "code",
   "execution_count": 2,
   "outputs": [],
   "source": [
    "c = CTWHandler()\n",
    "c.add_data(models_pathes)"
   ],
   "metadata": {
    "collapsed": false
   }
  },
  {
   "cell_type": "code",
   "execution_count": 3,
   "outputs": [
    {
     "name": "stdout",
     "output_type": "stream",
     "text": [
      "{'tag': 'Rat_L5b_PC_2_Hay_0-4_CTW', 'file': 'ID_58_384878_Rat_L5b_PC_2_Hay_0-4', 'index': 0, 'entropy': mpf('0.01378407442885619365625630665519106426160703474051806154177945519974778162375122244451344688470641349151'), 'n_spikes': 0.0, 'l_segemnt': 500}\n"
     ]
    }
   ],
   "source": [
    "for i in c:\n",
    "    print(i)"
   ],
   "metadata": {
    "collapsed": false
   }
  }
 ],
 "metadata": {
  "kernelspec": {
   "display_name": "Python 3",
   "language": "python",
   "name": "python3"
  },
  "language_info": {
   "codemirror_mode": {
    "name": "ipython",
    "version": 2
   },
   "file_extension": ".py",
   "mimetype": "text/x-python",
   "name": "python",
   "nbconvert_exporter": "python",
   "pygments_lexer": "ipython2",
   "version": "2.7.6"
  }
 },
 "nbformat": 4,
 "nbformat_minor": 0
}
