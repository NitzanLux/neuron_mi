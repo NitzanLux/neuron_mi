{
 "cells": [
  {
   "cell_type": "code",
   "execution_count": null,
   "metadata": {
    "collapsed": true
   },
   "outputs": [],
   "source": [
    "import re\n",
    "import os\n",
    "import os\n",
    "import re\n",
    "\n",
    "import matplotlib.pyplot as plt\n",
    "import pandas as pd\n",
    "# import mpmath\n",
    "from utils.evaluations_utils import *\n",
    "import numpy as np\n",
    "# % matplotlib inline\n",
    "import matplotlib\n",
    "import seaborn as sns\n",
    "from create_entropy_estimation import EntropyEstimation\n",
    "import re\n",
    "from typing import List, Iterable, Dict\n",
    "from numpy import log\n",
    "from scipy.special import betaln\n",
    "\n",
    "AVARAGE_RATE_ROUND_FACTOR = 5\n",
    "sns.set(font_scale=0.8)\n",
    "import mpmath\n",
    "from mpmath import mp, mpf,log\n",
    "\n",
    "mp.dps = 50"
   ]
  }
 ],
 "metadata": {
  "kernelspec": {
   "display_name": "Python 3",
   "language": "python",
   "name": "python3"
  },
  "language_info": {
   "codemirror_mode": {
    "name": "ipython",
    "version": 2
   },
   "file_extension": ".py",
   "mimetype": "text/x-python",
   "name": "python",
   "nbconvert_exporter": "python",
   "pygments_lexer": "ipython2",
   "version": "2.7.6"
  }
 },
 "nbformat": 4,
 "nbformat_minor": 0
}
