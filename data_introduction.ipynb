{
 "cells": [
  {
   "cell_type": "code",
   "execution_count": 1,
   "metadata": {},
   "outputs": [
    {
     "name": "stdout",
     "output_type": "stream",
     "text": [
      "start job\n"
     ]
    }
   ],
   "source": [
    "import os\n",
    "\n",
    "import matplotlib.pyplot as plt\n",
    "from create_entropy_score import EntropyTypes\n",
    "from utils.evaluations_utils import *\n",
    "import numpy as np\n",
    "%matplotlib inline\n",
    "import matplotlib\n",
    "import seaborn as sn\n"
   ]
  },
  {
   "cell_type": "markdown",
   "metadata": {},
   "source": [
    "<h3> add parameters<h3>"
   ]
  },
  {
   "cell_type": "code",
   "execution_count": 2,
   "metadata": {},
   "outputs": [],
   "source": [
    "#{tag:plot name}\n",
    "# models = {'davids_ergodic_train':'NMDA','reduction_ergodic_train':'reduction','train_AMPA_gmax1':'AMPA gmax 0.0004','train_AMPA_gmax2':'AMPA gmax 0.0008','train_AMPA_gmax3':'AMPA gmax 0.0012','train_AMPA_gmax4':'AMPA gmax 0.0016'}\n",
    "# name_order = ['NMDA','reduction','AMPA gmax 0.0004','AMPA gmax 0.0008','AMPA gmax 0.0012','AMPA gmax 0.0016']\n",
    "# file_dest = \"small_eval_fnum30000_seed_1623324578916768431.pkl\"\n",
    "models={'Rat_L5b_PC_2_Hay_0-6':'L5PC 0.6'}\n",
    "name_order=['L5PC 0.6']"
   ]
  },
  {
   "cell_type": "markdown",
   "metadata": {},
   "source": [
    "loading model"
   ]
  },
  {
   "cell_type": "code",
   "execution_count": 3,
   "outputs": [
    {
     "name": "stderr",
     "output_type": "stream",
     "text": [
      "100%|██████████| 1/1 [00:00<00:00, 1001.98it/s]\n",
      "100%|██████████| 1/1 [00:00<00:00, 1002.22it/s]\n",
      "1it [00:00, ?it/s]\n"
     ]
    }
   ],
   "source": [
    "# with open(os.path.join('entropy_data',file_dest),'rb') as f:\n",
    "#     d_dict = pickle.load(f)\n",
    "# print(d_dict.keys())\n",
    "d = ModelsSEData(tags=list(models.keys()),is_folder=True)\n",
    "# d = ModelsSEData(data_dict=d_dict)\n",
    "# d.sample_from_set(d_ratio)\n",
    "df, m_names = d.get_as_dataframe()\n",
    "models = {k:v for k,v in models.items()}\n",
    "# for i in models.keys():\n",
    "    # df[df['model']==i]['model'] = models[i]\n",
    "# models = {v:v for v in models.values()}\n",
    "df.replace(inplace=True,to_replace=models)\n"
   ],
   "metadata": {
    "collapsed": false
   }
  },
  {
   "cell_type": "markdown",
   "metadata": {},
   "source": [
    "Drop Nones and inf columns"
   ]
  },
  {
   "cell_type": "code",
   "execution_count": null,
   "outputs": [],
   "source": [
    "print([len(d.data[i]) for i in d.data.keys()])\n",
    "print(len(d.keys))"
   ],
   "metadata": {
    "collapsed": false
   }
  },
  {
   "cell_type": "code",
   "execution_count": null,
   "outputs": [],
   "source": [
    "inf_nan_columns = []\n",
    "for i in df.columns:\n",
    "    dfinf = df[i]\n",
    "    if 'ENTROPY' not in i:\n",
    "        continue\n",
    "    if dfinf.dtype == object:\n",
    "        dfinf = np.array(list(dfinf))\n",
    "\n",
    "    if np.any(np.isinf(dfinf)):\n",
    "        inf_nan_columns.append(i)\n",
    "print(inf_nan_columns)\n",
    "df.drop(inf_nan_columns, axis=1, inplace=True)\n"
   ],
   "metadata": {
    "collapsed": false
   }
  },
  {
   "cell_type": "markdown",
   "source": [
    "<h2> Distributions visualization over the CI <h2>"
   ],
   "metadata": {
    "collapsed": false
   }
  },
  {
   "cell_type": "code",
   "execution_count": 4,
   "outputs": [],
   "source": [
    "box_plot_data = {}\n",
    "colors_index={}\n",
    "c_obj=set()\n",
    "temp_df= d\n",
    "for i, m in enumerate(name_order):\n",
    "    colors_index[m]=f'C{i}'\n",
    "    for c in df.columns:\n",
    "        if 'CI'in c:\n",
    "            # c_obj.add(c[:-len('_s_CI')])\n",
    "            c_obj.add(c)\n",
    "# for i, m in enumerate(name_order):\n",
    "#     colors_index[m]=f'C{i}'\n",
    "#     for c in df.columns:\n",
    "#         if 'CI'in c:\n",
    "#             if c not in box_plot_data:\n",
    "#                 box_plot_data[c]=[]\n",
    "#             box_plot_data[c].append(df[df['model'] == m][c].tolist())\n",
    "#             box_plot_data[c][-1] = np.array(box_plot_data[c][-1])\n",
    "for c in c_obj:\n",
    "    fig, ax = plt.subplots()\n",
    "    bpa=[]\n",
    "    keylen = len(box_plot_data)\n",
    "    c_arr=[]\n",
    "    i=0\n",
    "    # for k in box_plot_data.keys():\n",
    "    #     if not c in k:\n",
    "    #         continue\n",
    "    #     c_arr.append(k)\n",
    "    r = sn.violinplot(data=df,y=c,x='model',width=1.,orient='v')\n",
    "        # for j,m in enumerate(name_order):\n",
    "            # bp = ax.boxplot(box_plot_data[k][j],positions=[j+(i*(len(name_order)+1))],patch_artist=True, showfliers=False)\n",
    "            # bp['boxes'][0].set_facecolor(colors_index[m])\n",
    "            # bpa.append(bp)\n",
    "    # i+=1\n",
    "    r.set_xticklabels(r.get_xticklabels(),rotation=30)\n",
    "    ax.set_ylabel('Complexity index')\n",
    "    # ax.set_xticks((np.arange(len(name_order)+1)*len(box_plot_data)))\n",
    "    # a = ax.set_xticks(np.arange(0,(len(name_order)+1)*len(c_arr),len(name_order)+1)+len(name_order)/2-0.5,c_arr)\n",
    "\n",
    "    # vertical alignment of xtick labels\n",
    "    # va = [ 0, -.05, 0, -.05, -.05, -.05 ]\n",
    "    # for t, y in zip( ax.get_xticklabels( ), va ):\n",
    "    #     t.set_y( y )\n",
    "    # for k,v in colors_index.items():\n",
    "    #     ax.plot([],[],color=v,label=k)\n",
    "    # ax.set_yscale('log')\n",
    "    # ax.set_xticklabels(ax.get_xticksl())\n",
    "    # ax.tick_params( axis='x', which='minor', direction='out', length=30 )\n",
    "    # ax.tick_params( axis='x', which='major', bottom='off', top='off' )\n",
    "    # ax.set_xticks(np.arange(len(name_order)) + 1, names_for_plots)\n",
    "    ax.set_title(f'{c.replace(\"CI\",\"\").replace(\"_\",\" \")}Complexity Index ')\n",
    "    plt.subplots_adjust(bottom=0.4)\n",
    "    # plt.legend()\n",
    "\n",
    "    fig\n",
    "    save_large_plot(fig, f\"boxplot{c}_{len(d)}.png\", tags=d.data_tags)\n"
   ],
   "metadata": {
    "collapsed": false,
    "pycharm": {
     "name": "#%% box plot complexity\n"
    }
   }
  },
  {
   "cell_type": "markdown",
   "source": [
    "hist plot of the cis\n"
   ],
   "metadata": {
    "collapsed": false
   }
  },
  {
   "cell_type": "code",
   "execution_count": null,
   "metadata": {},
   "outputs": [],
   "source": [
    "for c in tqdm(df.columns):\n",
    "    if not ('ENTROPY' in c and 'CI' in c):\n",
    "        continue\n",
    "    df = df.sort_values(['key'])\n",
    "    datas = []\n",
    "    ci_data = []\n",
    "    for i in name_order:\n",
    "        # datas.append(np.vstack(df[df['model'] == i][c].tolist()))\n",
    "        ci_data.append(np.vstack(df[df['model'] == i][c].tolist()))\n",
    "    dist = []\n",
    "    bins = 200\n",
    "    # all_data= np.vstack(datas)\n",
    "    fig, ax = plt.subplots()\n",
    "    for j, n in enumerate(name_order):\n",
    "        frequency, bins = np.histogram(ci_data[j], bins=bins)\n",
    "        frequency = frequency / np.sum(frequency)\n",
    "        ax.stairs(frequency, bins, fill=True, label=n, alpha=0.4)\n",
    "    fig.legend(loc=1, borderaxespad=3)\n",
    "    ax.set_title(c.lower().replace('_', ' ').capitalize())\n",
    "    ax.set_ylabel('P(ci)')\n",
    "    ax.set_xlabel('ci value')\n",
    "    save_large_plot(fig,f'dist_1d_{c}_{len(d)}.png',tags=d.data_tags)\n",
    "    fig"
   ]
  },
  {
   "cell_type": "code",
   "execution_count": null,
   "outputs": [],
   "source": [
    "name_order_dict= {n:i for i,n in enumerate(name_order)}\n",
    "df = df.sort_values(['model'],key = lambda x: [name_order_dict[i] for i in x])\n",
    "\n",
    "for c in (df.columns):\n",
    "    if not ('ENTROPY' in c and 'CI' in c):\n",
    "        continue\n",
    "    fig, ax = plt.subplots()\n",
    "    res = sn.kdeplot(data=df,x = f'{c}', shade=False,hue='model',alpha=0.6)#thresh\n",
    "    # for i in models.keys():\n",
    "        # print(np.std(df[df['model'==i]][c]),c,i)\n",
    "    ax.set_title(c.lower().replace('_', ' ').capitalize())\n",
    "    ax.set_ylabel('P(ci)')\n",
    "    ax.set_xlabel('ci value')\n",
    "    ax.set_yscale('log')\n",
    "\n",
    "    save_large_plot(fig,f'dist_1d_{c}_{len(d)}.png',tags=d.data_tags)\n",
    "    fig"
   ],
   "metadata": {
    "collapsed": false
   }
  },
  {
   "cell_type": "markdown",
   "metadata": {},
   "source": []
  },
  {
   "cell_type": "code",
   "execution_count": null,
   "metadata": {},
   "outputs": [],
   "source": [
    "box_plot_data = {}\n",
    "colors_index={}\n",
    "c_obj=set()\n",
    "for i, m in enumerate(name_order):\n",
    "    colors_index[m]=f'C{i}'\n",
    "    for c in df.columns:\n",
    "        if 'CI'in c:\n",
    "            c_obj.add(c[:-len('_s_CI')])\n",
    "for i, m in enumerate(name_order):\n",
    "    colors_index[m]=f'C{i}'\n",
    "    for c in df.columns:\n",
    "        if 'CI'in c:\n",
    "            if c not in box_plot_data:\n",
    "                box_plot_data[c]=[]\n",
    "            box_plot_data[c].append(df[df['model'] == m][c].tolist())\n",
    "            box_plot_data[c][-1] = np.array(box_plot_data[c][-1])\n",
    "for c in tqdm(c_obj):\n",
    "    # for i,m in enumerate(name_order):\n",
    "    res = sn.kdeplot(data=df,y = f'{c}_v_CI',x =f'{c}_s_CI', shade=False,hue='model',alpha=0.6)#thresh\n",
    "    plt.ylabel('v')\n",
    "    plt.xlabel('s')\n",
    "    plt.title(c.lower().replace('_',' ').capitalize())\n",
    "    save_large_plot(plt,f'kde{c}_{len(d)}.png',tags=d.data_tags)\n",
    "    plt.show()"
   ]
  },
  {
   "cell_type": "markdown",
   "metadata": {},
   "source": [
    "\n",
    "<h4> norm sorted <h4>"
   ]
  },
  {
   "cell_type": "code",
   "execution_count": null,
   "metadata": {},
   "outputs": [],
   "source": [
    "df = df.sort_values(['key'])\n",
    "box_plot_data = {}\n",
    "colors_index={}\n",
    "c_obj=set()\n",
    "for i, m in enumerate(name_order):\n",
    "    colors_index[m]=f'C{i}'\n",
    "    for c in df.columns:\n",
    "        if 'CI'in c:\n",
    "            c_obj.add(c)\n",
    "for c in c_obj:\n",
    "    diff_vec = []\n",
    "    for j in tqdm(name_order):\n",
    "        # a = df[(df['model'] == j)][c].values\n",
    "        diff_vec.append(df[(df['model'] == j)][c].values)\n",
    "    diff_vec = np.array(diff_vec)\n",
    "    temp_diff_vec = diff_vec.copy()\n",
    "    a = np.argsort(np.linalg.norm(diff_vec, axis=0))\n",
    "    fig, ax = plt.subplots()\n",
    "    mat = diff_vec[:, a]\n",
    "    im = ax.matshow(mat)\n",
    "    ax.set_aspect(3000)\n",
    "    ax.set_xticks([])\n",
    "    ax.set_xlabel(f'Sorted Trial index (n = {diff_vec.shape[1]:,})')\n",
    "    ax.set_yticks(range(len(name_order)), name_order)\n",
    "    ax.set_title(f'Norm Sorted SE Complexity Index {c.lower().replace(\"_\",\" \").capitalize()}')\n",
    "    fig.colorbar(im, location=\"bottom\")\n",
    "    plt.tight_layout()\n",
    "    save_large_plot(fig, f'norm_wise_orderd_matrix{c}_{len(d)}.png', d.data_tags)\n",
    "\n",
    "    fig.show()"
   ]
  },
  {
   "cell_type": "markdown",
   "metadata": {},
   "source": [
    "<h4> spike count per simulation <h4>"
   ]
  },
  {
   "cell_type": "code",
   "execution_count": null,
   "metadata": {},
   "outputs": [],
   "source": [
    "\n",
    "#spike_count\n",
    "fig, ax = plt.subplots()\n",
    "datas = []\n",
    "for i in name_order:\n",
    "    datas.append(np.array(df[df['model'] == i]['spikes'].tolist()).sum(axis=1))\n",
    "    datas[-1]=datas[-1]*1000/datas[-1].size\n",
    "    # a=np.mean(np.array(datas[-1]),axis=1)\n",
    "    # print(i, np.mean(np.array(datas[-1]),axis=1))\n",
    "names_for_plots_labels = [(mn + f\" ($\\mu$ = {np.round(np.mean(np.array(datas[i])), 2)})\") for i, mn in\n",
    "                          enumerate(models.values())]\n",
    "d_arr=np.vstack(datas)\n",
    "print(d_arr.shape)\n",
    "bins = np.linspace(np.min(d_arr),np.max(d_arr),15)\n",
    "\n",
    "\n",
    "ax.hist(datas, bins=bins,rwidth=1, label=names_for_plots_labels, alpha=1, align='mid')\n",
    "ax.set_title('Spike Count Per Trial')\n",
    "# ax.set_yscale('log')\n",
    "ax.set_xlabel('Firing rate(Hz)')\n",
    "ax.set_ylabel('Number of Occurrences')\n",
    "# ax.set_xticks(bins[::5] - 0.5, bins[::5])\n",
    "fig.legend(bbox_to_anchor=[0.9, 0.875])\n",
    "# save_large_plot(fig, 'spike_count.png', name_order)\n",
    "save_large_plot(fig,f'spike_count_{len(d)}.png',tags=d.data_tags)\n",
    "\n",
    "\n"
   ]
  },
  {
   "cell_type": "markdown",
   "metadata": {},
   "source": [
    "distributions"
   ]
  },
  {
   "cell_type": "code",
   "execution_count": null,
   "metadata": {},
   "outputs": [],
   "source": [
    "\n",
    "for i in tqdm(df.columns):\n",
    "    if not ('ENTROPY' in i and 'CI' in i):\n",
    "        continue\n",
    "    datas=[]\n",
    "    df = df.sort_values(by=['key'])\n",
    "    prev_index=None\n",
    "    indexes=None\n",
    "    for m in name_order:\n",
    "        prev_index=indexes\n",
    "        indexes=df[df['model'] == m]['key'].tolist()\n",
    "        datas.append(np.hstack(df[df['model'] == m][i].tolist()))\n",
    "        if prev_index is not None:\n",
    "            assert all(i==j for i,j in zip(prev_index,indexes)),'\\n'.join([('' if i==j else str((i,j)))for i,j in zip(prev_index,indexes)])\n",
    "        # datas.append(np.vstack(df[df['model'] == m][i].tolist()).sum(axis=1))\n",
    "    for j in combination_sorting(name_order):\n",
    "        first_index, second_index = j[0],j[1]\n",
    "        fig, ax = plt.subplots()\n",
    "        lims = (np.min(np.vstack((datas[first_index], datas[second_index]))),\n",
    "                np.max(np.vstack((datas[first_index], datas[second_index]))))\n",
    "        H, xedges, yedges = np.histogram2d(datas[first_index], datas[second_index], range=np.array([lims, lims]),\n",
    "                                           bins=50)\n",
    "        # replace zeroes with nan\n",
    "        H[H == 0] = np.nan\n",
    "        im = ax.imshow(H.T, interpolation='nearest', origin='lower', extent=[xedges[0], xedges[-1], yedges[0], yedges[-1]]\n",
    "                       )\n",
    "        # , norm=colors.LogNorm())\n",
    "        ax.plot(lims, lims, color='black')\n",
    "        slope, intercept, r_value, p_value, std_err = linregress(np.array(datas[first_index]), datas[second_index])\n",
    "        reg_intercep = intercept\n",
    "        reg_coef = slope\n",
    "        x = lims\n",
    "        y = [reg_intercep + lims[0] * reg_coef, reg_intercep + lims[1] * reg_coef]\n",
    "        ax.plot(x, y, color='red')\n",
    "        fig.colorbar(im)\n",
    "        ax.set_xlabel(models[name_order[first_index]])\n",
    "        ax.set_ylabel(models[name_order[second_index]])\n",
    "        ax.set_ylim(lims)\n",
    "        ax.set_xlim(lims)\n",
    "        ax.set_title(\n",
    "            f\"{models[name_order[first_index]]} and {models[name_order[second_index]]} trials {i} \\nn = {len(datas[second_index]) * 2:,} ,$R^2$ = {np.round(r_value ** 2, 4)}\")\n",
    "        fig\n",
    "        save_large_plot(fig, f\"pairwise_2dhist_{i}_{models[name_order[first_index]]}_{models[name_order[second_index]]}_{len(d)}.png\", tags=d.data_tags)\n"
   ]
  },
  {
   "cell_type": "code",
   "execution_count": 5,
   "metadata": {
    "pycharm": {
     "name": "#%% print temporal mean and error\n"
    }
   },
   "outputs": [
    {
     "name": "stdout",
     "output_type": "stream",
     "text": [
      "['SAMPLE_ENTROPY_s_MSx', 'SAMPLE_ENTROPY_v_MSx']\n"
     ]
    },
    {
     "name": "stderr",
     "output_type": "stream",
     "text": [
      "100%|██████████| 1/1 [00:00<00:00, 38.59it/s]\n"
     ]
    },
    {
     "name": "stdout",
     "output_type": "stream",
     "text": [
      "      model          file  sim_ind  \\\n",
      "0  L5PC 0.6  ID_30_596825        0   \n",
      "\n",
      "                                              spikes  \\\n",
      "0  [0.0, 0.0, 0.0, 0.0, 0.0, 0.0, 0.0, 0.0, 0.0, ...   \n",
      "\n",
      "                                             voltage  \\\n",
      "0  [-76.0, -76.36935213766877, -76.69696507146784...   \n",
      "\n",
      "                                SAMPLE_ENTROPY_s_MSx  \\\n",
      "0  [0.03103674081597969, 0.03151846631364066, 0.0...   \n",
      "\n",
      "                                  SAMPLE_ENTROPY_s_A  \\\n",
      "0  [1774166971.0, 1719062292.0, 1664841213.0, 161...   \n",
      "\n",
      "                                  SAMPLE_ENTROPY_s_B  SAMPLE_ENTROPY_s_CI  \\\n",
      "0  [1830094750.0, 1774107411.0, 1719003672.0, 166...             4.496122   \n",
      "\n",
      "                                SAMPLE_ENTROPY_v_MSx  \\\n",
      "0  [1.627222365546248, 0.1645299024934373, 0.1715...   \n",
      "\n",
      "                                  SAMPLE_ENTROPY_v_A  \\\n",
      "0  [359567045.0, 305005296.0, 256905129.0, 216056...   \n",
      "\n",
      "                                  SAMPLE_ENTROPY_v_B  SAMPLE_ENTROPY_v_CI  \\\n",
      "0  [1830094750.0, 359552083.0, 304991966.0, 25689...            10.053075   \n",
      "\n",
      "                key  \n",
      "0  ID_30_596825#$#0  \n",
      "      model          file  sim_ind  \\\n",
      "0  L5PC 0.6  ID_30_596825        0   \n",
      "\n",
      "                                              spikes  \\\n",
      "0  [0.0, 0.0, 0.0, 0.0, 0.0, 0.0, 0.0, 0.0, 0.0, ...   \n",
      "\n",
      "                                             voltage  \\\n",
      "0  [-76.0, -76.36935213766877, -76.69696507146784...   \n",
      "\n",
      "                                SAMPLE_ENTROPY_s_MSx  \\\n",
      "0  [0.03103674081597969, 0.03151846631364066, 0.0...   \n",
      "\n",
      "                                  SAMPLE_ENTROPY_s_A  \\\n",
      "0  [1774166971.0, 1719062292.0, 1664841213.0, 161...   \n",
      "\n",
      "                                  SAMPLE_ENTROPY_s_B  SAMPLE_ENTROPY_s_CI  \\\n",
      "0  [1830094750.0, 1774107411.0, 1719003672.0, 166...             4.496122   \n",
      "\n",
      "                                SAMPLE_ENTROPY_v_MSx  \\\n",
      "0  [1.627222365546248, 0.1645299024934373, 0.1715...   \n",
      "\n",
      "                                  SAMPLE_ENTROPY_v_A  \\\n",
      "0  [359567045.0, 305005296.0, 256905129.0, 216056...   \n",
      "\n",
      "                                  SAMPLE_ENTROPY_v_B  SAMPLE_ENTROPY_v_CI  \\\n",
      "0  [1830094750.0, 359552083.0, 304991966.0, 25689...            10.053075   \n",
      "\n",
      "                key  \n",
      "0  ID_30_596825#$#0  \n"
     ]
    },
    {
     "name": "stderr",
     "output_type": "stream",
     "text": [
      "100%|██████████| 1/1 [00:00<?, ?it/s]\n",
      "100%|██████████| 1/1 [00:00<?, ?it/s]\n"
     ]
    },
    {
     "data": {
      "text/plain": "<Figure size 640x480 with 2 Axes>",
      "image/png": "[encoded data removed]"
     },
     "metadata": {},
     "output_type": "display_data"
    }
   ],
   "source": [
    "\n",
    "# %% print temporal mean and error\n",
    "relevant_cols_msx=[]\n",
    "relevant_cols_ci=[]\n",
    "representative_msx=set()\n",
    "\n",
    "for i in df.columns:\n",
    "    if 'MSx'in i:\n",
    "        relevant_cols_msx.append(i)\n",
    "        representative_msx.add(i[:-len('_v_CI')])\n",
    "\n",
    "    elif 'CI' in i:\n",
    "        relevant_cols_ci.append(i)\n",
    "representative_msx = {k:i for i,k in enumerate(representative_msx)}\n",
    "df = df.sort_values(['key'])\n",
    "datas = {}\n",
    "ci_data={}\n",
    "threshold=None\n",
    "print(relevant_cols_msx)\n",
    "\n",
    "for m in tqdm(name_order):\n",
    "    datas[m]=[]\n",
    "    ci_data[m]=[]\n",
    "    for c in relevant_cols_msx:\n",
    "        print(df[df['model'] == m])\n",
    "        datas[m].append(np.vstack(df[df['model'] == m][c].tolist()))\n",
    "    for c in relevant_cols_ci:\n",
    "        ci_data[m].append(np.vstack(df[df['model'] == m][c].tolist()))\n",
    "\n",
    "# ci_data = np.hstack(ci_data)\n",
    "# indexes=np.arange(ci_data[0].shape[0])\n",
    "sorted(relevant_cols_msx,key = lambda x: representative_msx[x[:-len('_v_CI')]]+int('_v_' in x))\n",
    "for i,c in enumerate(relevant_cols_msx):\n",
    "    if i%2==0:\n",
    "        fig, ax = plt.subplots(1,2)\n",
    "    for m in tqdm(name_order):\n",
    "        if threshold is not None:\n",
    "            mean = np.mean(datas[m][i], axis=0)\n",
    "            std =  np.std(datas[m][i], axis=0)\n",
    "        else:\n",
    "            mean = np.mean(datas[m][i], axis=0)\n",
    "            std = np.std(datas[m][i], axis=0)\n",
    "        ax[i%2].plot(np.arange(datas[m][i].shape[1]), mean, label=f'{m}')\n",
    "        ax[i%2].fill_between(np.arange(datas[m][i].shape[1]), mean - std, mean + std, alpha=0.3)\n",
    "    ax[i%2].legend()\n",
    "    # if threshold is not None:\n",
    "    # ax.set_title(\n",
    "    # f'Average SE Across Different Time Scales (n = {len(datas[0]) * len(datas):,}) \\nCi value {\"greater\" if direction > 0 else \"lower\"} than {threshold_value:0.4}')\n",
    "    # else:\n",
    "    #     ax.set_title(f'Average SE Across Different Time Scales (n = {len(datas[0]) * len(datas):,})')\n",
    "    ax[i%2].set_xlabel('Time Scales')\n",
    "    ax[i%2].set_ylabel('SE value')\n",
    "    ax[i%2].set_title(c.lower().replace('_',' ').capitalize())\n",
    "    if i%2==1:\n",
    "        save_large_plot(fig,f'temporal_msx_{c[:-len(\"_v_CI\")]}_{len(d)}.png',tags=d.data_tags)\n",
    "\n",
    "    fig"
   ]
  },
  {
   "cell_type": "markdown",
   "source": [
    "<h2> show traces <h2>"
   ],
   "metadata": {
    "collapsed": false
   }
  },
  {
   "cell_type": "markdown",
   "source": [
    "<h3> by input max and min <h3>"
   ],
   "metadata": {
    "collapsed": false
   }
  },
  {
   "cell_type": "code",
   "execution_count": null,
   "outputs": [],
   "source": [
    "# models=name_order\n",
    "models_to_remove = ['reduction']#,'AMPA gmax 0.0004']\n",
    "ci = 'APPROXIMATE_ENTROPY_s_CI'\n",
    "ci = 'FUZZY_ENTROPY_s_CI'\n",
    "df = df.sort_values(['key'])\n",
    "diff_vec = []\n",
    "keys_vec = []\n",
    "cur_model_order=[]\n",
    "for j in tqdm(name_order):\n",
    "    if models[j] in models_to_remove:\n",
    "        continue\n",
    "    cur_model_order.append(j)\n",
    "    keys_vec.append(df[(df['model'] == j)]['voltage'].values)\n",
    "    diff_vec.append(df[(df['model'] == j)][ci].values)\n",
    "diff_vec = np.array(diff_vec)\n",
    "temp_diff_vec = diff_vec.copy()\n",
    "a = diff_vec.sum(axis=0)\n",
    "amax = np.argmax(a)\n",
    "amin = np.argmin(a)\n",
    "# amid =np.argwhere(a==np.percentile(a,50,method='nearest'))[0][0]\n",
    "amean =(np.abs(a - a.mean())).argmin()\n",
    "for i,n in enumerate(cur_model_order):\n",
    "    fig,ax = plt.subplots(3)\n",
    "    ax[0].plot(keys_vec[i][amax])\n",
    "    ax[2].plot(keys_vec[i][amin])\n",
    "    ax[1].plot(keys_vec[i][amean])\n",
    "\n",
    "    ax[0].set_title(f'Max CI {np.round(diff_vec[i][amax],5)}')\n",
    "    ax[1].set_title(f'Mean CI {np.round(diff_vec[i][amean],5)}')\n",
    "    ax[2].set_title(f'Min ci {np.round(diff_vec[i][amin],5)}')\n",
    "    ax[0].set_xticks([])\n",
    "    ax[1].set_xticks([])\n",
    "    ax[2].set_xlabel('Time(ms)')\n",
    "    [ax[i].set_ylabel('Voltage (mv)') for i in range(3)]\n",
    "    print(models[n])\n",
    "    fig.suptitle(f\"{models[n]} by {ci.lower().replace('_',' ').replace('CI','').capitalize()}\")\n",
    "    save_large_plot(fig,f'mkl_traces_{n}_{ci}.png',tags=d.data_tags)\n",
    "    fig.tight_layout()\n",
    "    fig"
   ],
   "metadata": {
    "collapsed": false
   }
  },
  {
   "cell_type": "code",
   "execution_count": null,
   "outputs": [],
   "source": [
    "models_to_remove = ['reduction']#,'AMPA gmax 0.0004']\n",
    "ci = 'APPROXIMATE_ENTROPY_s_CI'\n",
    "ci = 'FUZZY_ENTROPY_s_CI'\n",
    "\n",
    "df = df.sort_values(['key'])\n",
    "diff_vec = []\n",
    "keys_vec = []\n",
    "cur_model_order=[]\n",
    "for j in tqdm(name_order):\n",
    "    if models[j] in models_to_remove:\n",
    "        continue\n",
    "    cur_model_order.append(j)\n",
    "    keys_vec.append(df[(df['model'] == j)]['voltage'].values)\n",
    "    diff_vec.append(df[(df['model'] == j)][ci].values)\n",
    "diff_vec = np.array(diff_vec)\n",
    "temp_diff_vec = diff_vec.copy()\n",
    "amax = np.argmax(diff_vec,axis=1)\n",
    "amin = np.argmin(diff_vec,axis=1)\n",
    "# amid =np.argwhere(a==np.percentile(a,50,method='nearest'))[0][0]\n",
    "amean =(np.abs(diff_vec - diff_vec.mean(axis=1)[:,np.newaxis])).argmin(axis=1)\n",
    "for i,n in enumerate(cur_model_order):\n",
    "    fig,ax = plt.subplots(3)\n",
    "    ax[0].plot(keys_vec[i][amax[i]])\n",
    "    ax[2].plot(keys_vec[i][amin[i]])\n",
    "    ax[1].plot(keys_vec[i][amean[i]])\n",
    "\n",
    "    ax[0].set_title(f'Max CI {np.round(diff_vec[i][amax[i]],5)}')\n",
    "    ax[1].set_title(f'Mean CI {np.round(diff_vec[i][amean[i]],5)}')\n",
    "    ax[2].set_title(f'Min ci {np.round(diff_vec[i][amin[i]],5)}')\n",
    "    ax[0].set_xticks([])\n",
    "    ax[1].set_xticks([])\n",
    "    ax[2].set_xlabel('Time(ms)')\n",
    "    [ax[i].set_ylabel('Voltage (mv)') for i in range(3)]\n",
    "    fig.suptitle(f\"{models[n]} by {ci.lower().replace('_',' ').replace('CI','').capitalize()}\")\n",
    "    save_large_plot(fig,f'traces_{n}_{ci}_different_files.png',tags=d.data_tags)\n",
    "    fig.tight_layout()\n",
    "    fig"
   ],
   "metadata": {
    "collapsed": false
   }
  },
  {
   "cell_type": "markdown",
   "source": [
    "<h2> moments <h2>"
   ],
   "metadata": {
    "collapsed": false
   }
  },
  {
   "cell_type": "code",
   "execution_count": null,
   "outputs": [],
   "source": [
    "from scipy.stats import moment\n"
   ],
   "metadata": {
    "collapsed": false
   }
  }
 ],
 "metadata": {
  "kernelspec": {
   "display_name": "Python 3 (ipykernel)",
   "language": "python",
   "name": "python3"
  },
  "language_info": {
   "codemirror_mode": {
    "name": "ipython",
    "version": 3
   },
   "file_extension": ".py",
   "mimetype": "text/x-python",
   "name": "python",
   "nbconvert_exporter": "python",
   "pygments_lexer": "ipython3",
   "version": "3.10.7"
  }
 },
 "nbformat": 4,
 "nbformat_minor": 1
}
